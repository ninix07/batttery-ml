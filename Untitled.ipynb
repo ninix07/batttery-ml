{
 "cells": [
  {
   "cell_type": "code",
   "execution_count": 1,
   "id": "abffd070-3ac1-4636-907d-898007b1a411",
   "metadata": {},
   "outputs": [
    {
     "name": "stdout",
     "output_type": "stream",
     "text": [
      "WARNING:tensorflow:From E:\\Rust\\battery-data-analysis\\analysis\\Lib\\site-packages\\keras\\src\\losses.py:2976: The name tf.losses.sparse_softmax_cross_entropy is deprecated. Please use tf.compat.v1.losses.sparse_softmax_cross_entropy instead.\n",
      "\n"
     ]
    }
   ],
   "source": [
    "import numpy as np \n",
    "import pandas as pd\n",
    "import matplotlib.pyplot as plt\n",
    "from mpl_toolkits.mplot3d import Axes3D\n",
    "from sklearn import linear_model\n",
    "from scipy.optimize import curve_fit\n",
    "from scipy.io import loadmat\n",
    "from sklearn.metrics import mean_squared_error\n",
    "from tensorflow.keras.callbacks import EarlyStopping\n",
    "from tensorflow.keras.models import load_model\n",
    "from sklearn.preprocessing import StandardScaler\n",
    "from sklearn.model_selection import train_test_split"
   ]
  },
  {
   "cell_type": "code",
   "execution_count": null,
   "id": "d46a52c4-2830-433f-8779-8fda53d60565",
   "metadata": {},
   "outputs": [],
   "source": [
    "data= pd.read_csv(\"./assets/battery-history-csvs/batteryreport.csv\")\n"
   ]
  },
  {
   "cell_type": "code",
   "execution_count": null,
   "id": "9e0dfc21-09ab-443a-9a83-e9616c0fb0ac",
   "metadata": {},
   "outputs": [],
   "source": [
    "data.head()"
   ]
  },
  {
   "cell_type": "code",
   "execution_count": null,
   "id": "b651a5b4-ef18-43d0-a2ff-6a8a1963db17",
   "metadata": {},
   "outputs": [],
   "source": [
    "data['date_time'] = pd.to_datetime(data['date_time'], unit='s')"
   ]
  },
  {
   "cell_type": "code",
   "execution_count": null,
   "id": "d30e22eb-6436-4f91-858c-dadd665932d9",
   "metadata": {},
   "outputs": [],
   "source": [
    "print(data.shape)"
   ]
  },
  {
   "cell_type": "code",
   "execution_count": null,
   "id": "9df50c06-656a-4b66-9324-a2abd2b8c73a",
   "metadata": {},
   "outputs": [],
   "source": [
    "data=data.sort_values(by=['date_time'],ascending=True)"
   ]
  },
  {
   "cell_type": "code",
   "execution_count": null,
   "id": "6fc9f47d-0c6b-46e1-bb72-82de8b4e6f24",
   "metadata": {},
   "outputs": [],
   "source": [
    "discharging_data=data[data['state']==\"Discharging\"]\n",
    "required_data=discharging_data.drop(\"state\", axis='columns')\n",
    "required_data"
   ]
  },
  {
   "cell_type": "code",
   "execution_count": null,
   "id": "c9e51188-1e16-416f-a6b6-bc695feac349",
   "metadata": {},
   "outputs": [],
   "source": [
    "\n",
    "diff_data=required_data.diff()\n"
   ]
  },
  {
   "cell_type": "code",
   "execution_count": null,
   "id": "ad4fa5bf-1ba6-4171-972e-29a43dea53db",
   "metadata": {},
   "outputs": [],
   "source": [
    "diff_data=diff_data.dropna()"
   ]
  },
  {
   "cell_type": "code",
   "execution_count": null,
   "id": "e8cc6632-08e3-4e22-bc6e-35429d11b722",
   "metadata": {},
   "outputs": [],
   "source": [
    "diff_data['date_time'] = pd.to_timedelta(diff_data['date_time'])\n",
    "diff_data['capacity']=diff_data['capacity'].abs()\n",
    "diff_data = diff_data[diff_data['capacity']!=0]\n",
    "diff_data['minutes'] = diff_data['date_time'].dt.total_seconds()/60"
   ]
  },
  {
   "cell_type": "code",
   "execution_count": null,
   "id": "19ba1ef6-4869-42a8-9016-971d467918f6",
   "metadata": {},
   "outputs": [],
   "source": [
    "diff_data.head()"
   ]
  },
  {
   "cell_type": "code",
   "execution_count": null,
   "id": "b228f449-3be9-4f9c-8ccf-4e667483e3ae",
   "metadata": {},
   "outputs": [],
   "source": [
    "plt.scatter(diff_data['capacity'], diff_data['minutes'])"
   ]
  },
  {
   "cell_type": "code",
   "execution_count": null,
   "id": "e3ad6b14-407e-4aa8-9f0d-2c119fad795e",
   "metadata": {},
   "outputs": [],
   "source": [
    "x_values=diff_data['capacity'].values\n",
    "y_values=diff_data['minutes'].values\n",
    "x_new = np.linspace(min(x_values), max(x_values), 100)\n"
   ]
  },
  {
   "cell_type": "code",
   "execution_count": null,
   "id": "b4c26e8f-bcd8-44bd-ad5e-2bc8c7127659",
   "metadata": {},
   "outputs": [],
   "source": [
    "coefficients = np.polyfit(x_values, y_values, 1)"
   ]
  },
  {
   "cell_type": "code",
   "execution_count": null,
   "id": "3f31e07e-8645-4e4a-8dd9-ff255c42b6ba",
   "metadata": {},
   "outputs": [],
   "source": [
    "best_fit_line = np.polyval(coefficients, x_values)\n",
    "y_interp = np.polyval(np.polyfit(x_values, y_values, 1), x_new)"
   ]
  },
  {
   "cell_type": "code",
   "execution_count": null,
   "id": "7c11fa82-89fe-4071-9d70-cd1da421f465",
   "metadata": {},
   "outputs": [],
   "source": [
    "plt.scatter(x_values, y_values, label='Data')\n",
    "plt.plot(x_values, best_fit_line, label='Best Fit Line', color='red')\n",
    "plt.xlabel('Capacity')\n",
    "plt.ylabel('Minutes')\n",
    "plt.title('Best Fit Line between Capacity and Minutes')"
   ]
  },
  {
   "cell_type": "code",
   "execution_count": null,
   "id": "81be1c49-a3f6-48d3-a464-c703a9522551",
   "metadata": {},
   "outputs": [],
   "source": [
    "plt.scatter(x_values, y_values, label='Known Points')\n",
    "plt.plot(x_new, y_interp, 'r-', label='Interpolated Curve')\n",
    "plt.xlabel('Capacity')\n",
    "plt.ylabel('Minutes')\n",
    "plt.title('Interpolated Curve')"
   ]
  },
  {
   "cell_type": "code",
   "execution_count": null,
   "id": "a877c535-53e2-4fcd-9dc5-7b2462e550b7",
   "metadata": {},
   "outputs": [],
   "source": [
    "data_slope = pd.DataFrame(columns=['prev_time', 'curr_time', 'prev_capacity', 'curr_capacity'])\n",
    "\n",
    "\n",
    "data_slope['prev_time'] = data['date_time'].shift()\n",
    "data_slope['curr_time'] = data['date_time']\n",
    "data_slope['prev_capacity'] = data['capacity'].shift()\n",
    "data_slope['curr_capacity'] = data['capacity']\n",
    "\n",
    "\n"
   ]
  },
  {
   "cell_type": "code",
   "execution_count": null,
   "id": "8626e797-e427-4a73-b25d-ad3c5471cf55",
   "metadata": {},
   "outputs": [],
   "source": [
    "data_slope.head()"
   ]
  },
  {
   "cell_type": "code",
   "execution_count": null,
   "id": "1d30031f-e441-4f7d-baa7-675bfd6d7a84",
   "metadata": {},
   "outputs": [],
   "source": [
    "data_slope=data_slope.dropna()"
   ]
  },
  {
   "cell_type": "code",
   "execution_count": null,
   "id": "a2fa1caa-b45f-49cd-be45-e2c8cfc39de1",
   "metadata": {},
   "outputs": [],
   "source": [
    "data_slope['time_diff']=(data_slope['curr_time'] - data_slope['prev_time']).dt.total_seconds()\n",
    "data_slope['slope'] = (data_slope['curr_capacity'] - data_slope['prev_capacity']) / data_slope['time_diff']"
   ]
  },
  {
   "cell_type": "code",
   "execution_count": null,
   "id": "81fe42ca-8851-4fff-b413-e7878f94d624",
   "metadata": {},
   "outputs": [],
   "source": [
    "data_slope.head()"
   ]
  },
  {
   "cell_type": "code",
   "execution_count": null,
   "id": "c860faaf-d045-486c-83e7-e2ee488618c0",
   "metadata": {},
   "outputs": [],
   "source": [
    "fig = plt.figure()\n",
    "ax = fig.add_subplot(111, projection='3d')\n",
    "ax.scatter(data_slope['slope'], data_slope['curr_capacity'] - data_slope['prev_capacity'], (data_slope['time_diff']))\n",
    "ax.set_xlabel('Slope')\n",
    "ax.set_ylabel('Capacity Difference')\n",
    "ax.set_zlabel('Time Difference (seconds)')\n",
    "\n",
    "plt.show()"
   ]
  },
  {
   "cell_type": "code",
   "execution_count": null,
   "id": "cdb469a1-81e7-4fde-99a9-62753fdda892",
   "metadata": {},
   "outputs": [],
   "source": [
    "model = linear_model.LinearRegression()"
   ]
  },
  {
   "cell_type": "code",
   "execution_count": null,
   "id": "516a2548-326e-48c9-a4fb-ed595d86daca",
   "metadata": {},
   "outputs": [],
   "source": [
    "X = data_slope[['slope', 'curr_capacity', 'prev_capacity']]\n",
    "y=data_slope['time_diff']"
   ]
  },
  {
   "cell_type": "code",
   "execution_count": null,
   "id": "191146fa-6505-4b97-a69c-1a0d3f7f2181",
   "metadata": {},
   "outputs": [],
   "source": [
    "model.fit(X, y)\n",
    "print('Coefficients:', model.coef_)\n",
    "print('Intercept:', model.intercept_)"
   ]
  },
  {
   "cell_type": "code",
   "execution_count": null,
   "id": "d3ec3aa8-a952-4740-bba8-0ded0948256e",
   "metadata": {},
   "outputs": [],
   "source": [
    "y_pred = model.predict(X)"
   ]
  },
  {
   "cell_type": "code",
   "execution_count": null,
   "id": "dff2526e-df9f-4c7a-be07-56f3fe23291d",
   "metadata": {},
   "outputs": [],
   "source": [
    "fig = plt.figure()\n",
    "ax = fig.add_subplot(111, projection='3d')\n",
    "ax.scatter(data_slope['slope'], data_slope['curr_capacity'] - data_slope['prev_capacity'], y_pred, label='Regression Plane', color='red')\n",
    "\n",
    "ax.set_xlabel('Slope')\n",
    "ax.set_ylabel('Capacity Difference')\n",
    "ax.set_zlabel('Time Difference (seconds)')\n",
    "\n",
    "ax.legend()\n",
    "\n",
    "plt.show()"
   ]
  },
  {
   "cell_type": "code",
   "execution_count": null,
   "id": "92380bb0-917d-4132-b37f-1692dc612772",
   "metadata": {},
   "outputs": [],
   "source": [
    "fig = plt.figure()\n",
    "ax = fig.add_subplot(111, projection='3d')\n",
    "ax.scatter(data_slope['slope'], data_slope['curr_capacity'] - data_slope['prev_capacity'], y_pred, label='Regression Plane', color='red')\n",
    "ax.scatter(data_slope['slope'], data_slope['curr_capacity'] - data_slope['prev_capacity'], (data_slope['time_diff']))\n",
    "\n",
    "ax.set_xlabel('Slope')\n",
    "ax.set_ylabel('Capacity Difference')\n",
    "ax.set_zlabel('Time Difference (seconds)')\n",
    "\n",
    "ax.legend()\n",
    "\n",
    "plt.show()"
   ]
  },
  {
   "cell_type": "code",
   "execution_count": null,
   "id": "ec5b2029-3ddf-4487-9402-9fab4f77ba84",
   "metadata": {},
   "outputs": [],
   "source": [
    "import tensorflow as tf"
   ]
  },
  {
   "cell_type": "code",
   "execution_count": null,
   "id": "bf668dfa-ff6b-4b32-a6ed-b09409de0de4",
   "metadata": {},
   "outputs": [],
   "source": [
    "# nn_data=pd.read_excel(\"./data/batteryDischargeData/UUT2_BatteryModule_Discharge.xlsx\",sheet_name=None)\n",
    "# df = pd.concat(list(nn_data.values()), ignore_index=True)\n"
   ]
  },
  {
   "cell_type": "code",
   "execution_count": null,
   "id": "16ae5f9f-951c-452d-8e02-7def8adf4a11",
   "metadata": {},
   "outputs": [],
   "source": [
    "# df.drop(columns=['UUT2P1 Voltage\\n [V ]', 'UUT2P2 Voltage\\n[V] ', 'UUT2P3 Voltage\\n [V] ', 'UUT2P4 Voltage\\n[V] '],inplace=True)\n"
   ]
  },
  {
   "cell_type": "code",
   "execution_count": null,
   "id": "e79c5d99-d5e9-4e29-8c49-7933a29e1ec1",
   "metadata": {},
   "outputs": [],
   "source": [
    "# df.head()"
   ]
  },
  {
   "cell_type": "code",
   "execution_count": null,
   "id": "bdb643ed-17af-443a-963d-c69695a34de2",
   "metadata": {},
   "outputs": [],
   "source": [
    "# df.columns\n"
   ]
  },
  {
   "cell_type": "code",
   "execution_count": null,
   "id": "44e0a1c4-fb15-4e25-b682-956272d4ae7b",
   "metadata": {},
   "outputs": [],
   "source": [
    "# df.drop(columns=['UUT2P1 Temp\\n[⁰C]', 'UUT2P2 Temp\\n[⁰C]', 'UUT2P3 Temp\\n[⁰C]', 'UUT2P4 Temp\\n[⁰C]'],inplace=True)"
   ]
  },
  {
   "cell_type": "code",
   "execution_count": null,
   "id": "24da4954-4424-4c6e-b1a5-2b3432439143",
   "metadata": {},
   "outputs": [],
   "source": [
    "# df.head()"
   ]
  },
  {
   "cell_type": "code",
   "execution_count": null,
   "id": "02f930b6-c614-423c-83bf-87446e95d2d0",
   "metadata": {},
   "outputs": [],
   "source": [
    "# X=df[['Test capacity\\n[Ah]','Test current\\n[A]']].values\n",
    "# y=df['Time\\n[s]'].values"
   ]
  },
  {
   "cell_type": "code",
   "execution_count": null,
   "id": "14a90f06-5543-47fb-b7be-11b2e89739df",
   "metadata": {},
   "outputs": [],
   "source": [
    "# model = tf.keras.Sequential()\n",
    "# model.add(tf.keras.layers.Dense(64, activation='relu'))\n",
    "# model.add(tf.keras.layers.Dense(32, activation='relu'))\n",
    "\n",
    "# model.add(tf.keras.layers.Dense(1, activation='linear'))"
   ]
  },
  {
   "cell_type": "code",
   "execution_count": null,
   "id": "545998e1-3d7d-4072-923e-463aa70aadee",
   "metadata": {
    "scrolled": true
   },
   "outputs": [],
   "source": [
    "# model.compile(optimizer='adam', loss='mean_squared_error')\n",
    "# early_stopping = EarlyStopping(monitor='val_loss', patience=10, restore_best_weights=True)\n",
    "# model.fit(X,y,epochs=100,batch_size=50,validation_split=0.2,callbacks=[early_stopping])"
   ]
  },
  {
   "cell_type": "code",
   "execution_count": null,
   "id": "4ec08ac3-a646-4fbe-af9a-846df794dbd8",
   "metadata": {},
   "outputs": [],
   "source": [
    "# model.summary()"
   ]
  },
  {
   "cell_type": "code",
   "execution_count": null,
   "id": "58fc028b-4f61-40cf-aca7-9bf1a352fee2",
   "metadata": {},
   "outputs": [],
   "source": [
    "# y_pred = model.predict(X)"
   ]
  },
  {
   "cell_type": "code",
   "execution_count": null,
   "id": "26cfbcd9-2dcd-4ff6-b25a-e1ecaf56be9d",
   "metadata": {},
   "outputs": [],
   "source": [
    "# rmse = np.sqrt(mean_squared_error(y, y_pred))"
   ]
  },
  {
   "cell_type": "code",
   "execution_count": null,
   "id": "9244a8cb-5e56-4002-bb5b-1b499ab4c004",
   "metadata": {},
   "outputs": [],
   "source": [
    "# print(rmse)\n"
   ]
  },
  {
   "cell_type": "code",
   "execution_count": null,
   "id": "4b6a97cc-b4fd-4696-b319-72d852b77f99",
   "metadata": {},
   "outputs": [],
   "source": [
    "# df1=pd.DataFrame(y_pred,columns=['prediction'])\n",
    "# df2=pd.DataFrame(np.array(y),columns=['actual'])\n",
    "\n"
   ]
  },
  {
   "cell_type": "code",
   "execution_count": null,
   "id": "c1b6056b-6bbf-4206-a2e8-d6c81ee5b3e4",
   "metadata": {},
   "outputs": [],
   "source": [
    "# result_df = pd.concat([df1, df2], axis=1)"
   ]
  },
  {
   "cell_type": "code",
   "execution_count": null,
   "id": "bc9151f9-b46f-4716-9570-75f1508eea6c",
   "metadata": {},
   "outputs": [],
   "source": [
    "# result_df.head()"
   ]
  },
  {
   "cell_type": "code",
   "execution_count": null,
   "id": "27567530-60a0-45ab-a50f-580afd9166cf",
   "metadata": {},
   "outputs": [],
   "source": [
    "# random_sample = result_df.sample(n=40, random_state=42)  # Set random_state for reproducibility\n",
    "\n",
    "# # Display the randomly selected sample\n",
    "# print(random_sample)"
   ]
  },
  {
   "cell_type": "code",
   "execution_count": null,
   "id": "5494b25e-2347-4712-93e2-5e233c85632d",
   "metadata": {},
   "outputs": [],
   "source": [
    "log_data=pd.read_csv(\"./data/battery_log_bishal.csv\",header=None,index_col=False)"
   ]
  },
  {
   "cell_type": "code",
   "execution_count": null,
   "id": "18d88a5a-dd04-43b9-b6ce-f9045f10f8a3",
   "metadata": {},
   "outputs": [],
   "source": [
    "log_data.head()"
   ]
  },
  {
   "cell_type": "code",
   "execution_count": null,
   "id": "d5063989-aad5-4016-848a-106b4ece48d4",
   "metadata": {},
   "outputs": [],
   "source": [
    "log_data.columns=[\"Date\",\"Battery Index\",\"Battery State\",\"Voltage[V]\",\"Energy[J]\", \"Energy_Rate[J/s]\"]"
   ]
  },
  {
   "cell_type": "code",
   "execution_count": null,
   "id": "e5c7669f-72a9-4fa1-b1db-fd6739be25f2",
   "metadata": {},
   "outputs": [],
   "source": [
    "log_data.head()"
   ]
  },
  {
   "cell_type": "code",
   "execution_count": null,
   "id": "1c2dfe91-2d56-4999-a8a5-f332c1a92137",
   "metadata": {},
   "outputs": [],
   "source": [
    "log_data['Voltage[V]'] = log_data['Voltage[V]'].str.extract(r'([-+]?\\d*\\.\\d+|\\d+)').astype(float)\n",
    "log_data['Energy[J]'] = log_data['Energy[J]'].str.extract(r'([-+]?\\d*\\.\\d+|\\d+)').astype(float)\n",
    "log_data['Energy_Rate[J/s]'] = log_data['Energy_Rate[J/s]'].str.extract(r'([-+]?\\d*\\.\\d+|\\d+)').astype(float)"
   ]
  },
  {
   "cell_type": "code",
   "execution_count": null,
   "id": "eaa2597e-c5e0-41fa-b980-46eefff34dd4",
   "metadata": {},
   "outputs": [],
   "source": [
    "log_data.head()"
   ]
  },
  {
   "cell_type": "code",
   "execution_count": null,
   "id": "87b3d4fe-dec9-4bee-a6d2-7c71a8f5855d",
   "metadata": {},
   "outputs": [],
   "source": [
    "# log_data.dropna()\n",
    "# log_data['time[s]']=log_data['Energy[J]']/log_data['Energy_Rate[J/s]']\n"
   ]
  },
  {
   "cell_type": "code",
   "execution_count": null,
   "id": "6bf808d6-118d-4b60-9181-64dab2a0d32b",
   "metadata": {},
   "outputs": [],
   "source": [
    "# log_data.head()"
   ]
  },
  {
   "cell_type": "code",
   "execution_count": null,
   "id": "a962550c-9638-4bd0-8f32-7cfa0d76070a",
   "metadata": {},
   "outputs": [],
   "source": [
    "# log_data.replace([np.inf, -np.inf], np.nan, inplace=True)\n",
    "# log_data.dropna(inplace=True)\n",
    "log_data['Battery State'] = log_data['Battery State'].apply(lambda x: 1 if x == 'Charging' else 0)\n",
    "log_data['Date'] = pd.to_datetime(log_data['Date'])\n",
    "log_data['Time Difference[s]']=log_data['Date'].diff().dt.total_seconds()\n",
    "log_data['Capacity Difference[J]']=log_data['Energy[J]'].diff()\n",
    "log_data.dropna(inplace=True)"
   ]
  },
  {
   "cell_type": "code",
   "execution_count": null,
   "id": "9c5a57c2-c9a3-45b1-9c79-cb0f683a3e82",
   "metadata": {},
   "outputs": [],
   "source": [
    "log_data.head()"
   ]
  },
  {
   "cell_type": "code",
   "execution_count": null,
   "id": "ced00b23-e427-4c8d-a87c-f3954bd37dfc",
   "metadata": {},
   "outputs": [],
   "source": [
    "X_log = log_data[['Voltage[V]', 'Energy[J]', 'Energy_Rate[J/s]', 'Capacity Difference[J]','Battery State']]\n",
    "y_log = log_data['Time Difference[s]']\n",
    "scaler = StandardScaler()\n",
    "X_normalized = scaler.fit_transform(X)\n"
   ]
  },
  {
   "cell_type": "code",
   "execution_count": null,
   "id": "e9647e02-e7d3-4824-9c64-da543d7c120f",
   "metadata": {},
   "outputs": [],
   "source": [
    "log_sample = log_data.sample(n=40, random_state=42)\n",
    "print(log_data)"
   ]
  },
  {
   "cell_type": "code",
   "execution_count": null,
   "id": "bf8221a2-c328-484a-83a7-1293c77362e7",
   "metadata": {},
   "outputs": [],
   "source": [
    "Battery_model = tf.keras.Sequential()\n",
    "Battery_model.add(tf.keras.layers.Dense(128, activation='relu'))\n",
    "Battery_model.add(tf.keras.layers.Dense(32, activation='relu'))\n",
    "Battery_model.add(tf.keras.layers.Dense(1, activation='linear'))"
   ]
  },
  {
   "cell_type": "code",
   "execution_count": null,
   "id": "d07f14bf-522d-4e72-84f2-391c2ebfa62c",
   "metadata": {},
   "outputs": [],
   "source": [
    "Battery_model.compile(optimizer='adam', loss='mean_squared_error')\n",
    "# early_stopping = EarlyStopping(monitor='val_loss', patience=3, restore_best_weights=True)\n",
    "Battery_model.fit(X_log,y_log,epochs=50,batch_size=10,validation_split=0.2)"
   ]
  },
  {
   "cell_type": "code",
   "execution_count": null,
   "id": "31bd8163-1997-4aaf-89fc-6888b67778ad",
   "metadata": {},
   "outputs": [],
   "source": [
    "Battery_model.summary()"
   ]
  },
  {
   "cell_type": "code",
   "execution_count": null,
   "id": "c87098be-71db-4e51-bf24-42e76332c318",
   "metadata": {},
   "outputs": [],
   "source": [
    "y_log_pred = Battery_model.predict(X_log)"
   ]
  },
  {
   "cell_type": "code",
   "execution_count": null,
   "id": "d7720492-443f-4c78-821b-7d1b0c28bf53",
   "metadata": {},
   "outputs": [],
   "source": [
    "rmse = np.sqrt(mean_squared_error(y_log, y_log_pred))\n",
    "print(rmse)"
   ]
  },
  {
   "cell_type": "code",
   "execution_count": null,
   "id": "4b2566e3-6aac-400c-b1fe-2a86c5b2aa9c",
   "metadata": {},
   "outputs": [],
   "source": [
    "df1=pd.DataFrame(y_log_pred,columns=['prediction'])\n",
    "df2=pd.DataFrame(np.array(y_log),columns=['actual'])\n",
    "result_df = pd.concat([df1, df2], axis=1)"
   ]
  },
  {
   "cell_type": "code",
   "execution_count": null,
   "id": "45d1ce68-2078-4e56-aeef-3ca289f73706",
   "metadata": {},
   "outputs": [],
   "source": [
    "random_sample = result_df.sample(n=40, random_state=42)  # Set random_state for reproducibility\n",
    "\n",
    "# Display the randomly selected sample\n",
    "print(random_sample)"
   ]
  },
  {
   "cell_type": "code",
   "execution_count": null,
   "id": "0a1d61d1-7065-435c-a6a6-a11e26b1bca1",
   "metadata": {},
   "outputs": [],
   "source": [
    "Battery_model.save(\"Battery_model\")"
   ]
  },
  {
   "cell_type": "code",
   "execution_count": null,
   "id": "f0799e66-9364-4a3f-afd5-2485933c2f0b",
   "metadata": {},
   "outputs": [],
   "source": [
    "model = load_model(\"Battery_model\")"
   ]
  },
  {
   "cell_type": "code",
   "execution_count": null,
   "id": "a5cc3509-9e61-493d-9100-94c3048821eb",
   "metadata": {},
   "outputs": [],
   "source": [
    "print(X_log)"
   ]
  },
  {
   "cell_type": "code",
   "execution_count": null,
   "id": "0623478b-6a5e-428d-a014-58ae8c60fcc4",
   "metadata": {},
   "outputs": [],
   "source": []
  }
 ],
 "metadata": {
  "kernelspec": {
   "display_name": "Python 3 (ipykernel)",
   "language": "python",
   "name": "python3"
  },
  "language_info": {
   "codemirror_mode": {
    "name": "ipython",
    "version": 3
   },
   "file_extension": ".py",
   "mimetype": "text/x-python",
   "name": "python",
   "nbconvert_exporter": "python",
   "pygments_lexer": "ipython3",
   "version": "3.11.5"
  }
 },
 "nbformat": 4,
 "nbformat_minor": 5
}
